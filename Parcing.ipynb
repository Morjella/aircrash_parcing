{
 "cells": [
  {
   "cell_type": "code",
   "execution_count": 1,
   "id": "db6626d8",
   "metadata": {},
   "outputs": [],
   "source": [
    "import pandas as pd\n",
    "from bs4 import BeautifulSoup\n",
    "import requests\n",
    "import datetime as dt"
   ]
  },
  {
   "cell_type": "code",
   "execution_count": 2,
   "id": "2d510b1e",
   "metadata": {},
   "outputs": [],
   "source": [
    "url = 'https://ru.wikipedia.org/wiki/100_%D0%BA%D1%80%D1%83%D0%BF%D0%BD%D0%B5%D0%B9%D1%88%D0%B8%D1%85_%D0%B0%D0%B2%D0%B8%D0%B0%D1%86%D0%B8%D0%BE%D0%BD%D0%BD%D1%8B%D1%85_%D0%BA%D0%B0%D1%82%D0%B0%D1%81%D1%82%D1%80%D0%BE%D1%84'\n",
    "page = requests.get(url)\n",
    "soup = BeautifulSoup(page.text, \"lxml\")\n",
    "aircrash = soup.find('table', class_='wide')"
   ]
  },
  {
   "cell_type": "code",
   "execution_count": 3,
   "id": "7425b29b",
   "metadata": {},
   "outputs": [],
   "source": [
    "headers = []\n",
    "\n",
    "for i in aircrash.find_all('th'):\n",
    "    title = i.text\n",
    "    headers.append(title)"
   ]
  },
  {
   "cell_type": "code",
   "execution_count": 4,
   "id": "e3b979fc",
   "metadata": {},
   "outputs": [],
   "source": [
    "column1= headers[0:10]\n",
    "del column1[1]\n",
    "mydata = pd.DataFrame(columns = column1)"
   ]
  },
  {
   "cell_type": "code",
   "execution_count": 5,
   "id": "9c2623be",
   "metadata": {},
   "outputs": [],
   "source": [
    "for j in aircrash.find_all('tr')[1:]:\n",
    "    row_data = j.find_all('td')\n",
    "    row = [i.text for i in row_data]\n",
    "    length = len(mydata)\n",
    "    mydata.loc[length] = row"
   ]
  },
  {
   "cell_type": "code",
   "execution_count": 6,
   "id": "5c71f35f",
   "metadata": {},
   "outputs": [
    {
     "data": {
      "text/html": [
       "<div>\n",
       "<style scoped>\n",
       "    .dataframe tbody tr th:only-of-type {\n",
       "        vertical-align: middle;\n",
       "    }\n",
       "\n",
       "    .dataframe tbody tr th {\n",
       "        vertical-align: top;\n",
       "    }\n",
       "\n",
       "    .dataframe thead th {\n",
       "        text-align: right;\n",
       "    }\n",
       "</style>\n",
       "<table border=\"1\" class=\"dataframe\">\n",
       "  <thead>\n",
       "    <tr style=\"text-align: right;\">\n",
       "      <th></th>\n",
       "      <th>№\\n</th>\n",
       "      <th>Дата\\n</th>\n",
       "      <th>Иллюстрация\\n</th>\n",
       "      <th>Воздушноесудно\\n</th>\n",
       "      <th>Оператор\\n</th>\n",
       "      <th>Место\\n</th>\n",
       "      <th>Страна\\n</th>\n",
       "      <th>Причина\\n</th>\n",
       "      <th>И\\n</th>\n",
       "    </tr>\n",
       "  </thead>\n",
       "  <tbody>\n",
       "    <tr>\n",
       "      <th>0</th>\n",
       "      <td>1\\n</td>\n",
       "      <td>20010911 11 сентября 2001\\n</td>\n",
       "      <td>\\n</td>\n",
       "      <td>B767-223ER\\n</td>\n",
       "      <td>American Airlines American Airlines\\n</td>\n",
       "      <td>Нью-Йорк\\n</td>\n",
       "      <td>США\\n</td>\n",
       "      <td>Захвачен террористами. Столкновение с северной...</td>\n",
       "      <td>[5]\\n</td>\n",
       "    </tr>\n",
       "    <tr>\n",
       "      <th>1</th>\n",
       "      <td>2\\n</td>\n",
       "      <td>20010911 11 сентября 2001\\n</td>\n",
       "      <td>\\n</td>\n",
       "      <td>B767-222\\n</td>\n",
       "      <td>United Airlines United Airlines\\n</td>\n",
       "      <td>Нью-Йорк\\n</td>\n",
       "      <td>США\\n</td>\n",
       "      <td>Захвачен террористами. Столкновение с южной ба...</td>\n",
       "      <td>[6]\\n</td>\n",
       "    </tr>\n",
       "    <tr>\n",
       "      <th>2</th>\n",
       "      <td>3\\n</td>\n",
       "      <td>19770327 27 марта 1977\\n</td>\n",
       "      <td>\\n</td>\n",
       "      <td>B747-206BB747-121\\n</td>\n",
       "      <td>KLM KLM Pan Am\\n</td>\n",
       "      <td>Лос-Родеос, Тенерифе\\n</td>\n",
       "      <td>Испания( Канарские острова)\\n</td>\n",
       "      <td>Столкновение на ВПП\\n</td>\n",
       "      <td>[7]\\n</td>\n",
       "    </tr>\n",
       "    <tr>\n",
       "      <th>3</th>\n",
       "      <td>4\\n</td>\n",
       "      <td>19850812 12 августа 1985\\n</td>\n",
       "      <td>\\n</td>\n",
       "      <td>B747SR-46\\n</td>\n",
       "      <td>Japan Air Lines Japan Air Lines\\n</td>\n",
       "      <td>Гумма, близ Токио\\n</td>\n",
       "      <td>Япония\\n</td>\n",
       "      <td>Потеря управления из-за разрушения гермошпанго...</td>\n",
       "      <td>[8]\\n</td>\n",
       "    </tr>\n",
       "    <tr>\n",
       "      <th>4</th>\n",
       "      <td>5\\n</td>\n",
       "      <td>19961112 12 ноября 1996\\n</td>\n",
       "      <td>\\n</td>\n",
       "      <td>B747-168BИл-76ТД\\n</td>\n",
       "      <td>Saudi Arabian Airlines Saudi Arabian Airlines ...</td>\n",
       "      <td>Чархи Дадри\\n</td>\n",
       "      <td>Индия\\n</td>\n",
       "      <td>Столкновение в воздухе\\n</td>\n",
       "      <td>[9]\\n</td>\n",
       "    </tr>\n",
       "  </tbody>\n",
       "</table>\n",
       "</div>"
      ],
      "text/plain": [
       "   №\\n                       Дата\\n Иллюстрация\\n     Воздушноесудно\\n  \\\n",
       "0  1\\n  20010911 11 сентября 2001\\n            \\n         B767-223ER\\n   \n",
       "1  2\\n  20010911 11 сентября 2001\\n            \\n           B767-222\\n   \n",
       "2  3\\n     19770327 27 марта 1977\\n            \\n  B747-206BB747-121\\n   \n",
       "3  4\\n   19850812 12 августа 1985\\n            \\n          B747SR-46\\n   \n",
       "4  5\\n    19961112 12 ноября 1996\\n            \\n   B747-168BИл-76ТД\\n   \n",
       "\n",
       "                                          Оператор\\n                 Место\\n  \\\n",
       "0              American Airlines American Airlines\\n              Нью-Йорк\\n   \n",
       "1                  United Airlines United Airlines\\n              Нью-Йорк\\n   \n",
       "2                                   KLM KLM Pan Am\\n  Лос-Родеос, Тенерифе\\n   \n",
       "3                  Japan Air Lines Japan Air Lines\\n     Гумма, близ Токио\\n   \n",
       "4  Saudi Arabian Airlines Saudi Arabian Airlines ...           Чархи Дадри\\n   \n",
       "\n",
       "                         Страна\\n  \\\n",
       "0                           США\\n   \n",
       "1                           США\\n   \n",
       "2   Испания( Канарские острова)\\n   \n",
       "3                        Япония\\n   \n",
       "4                         Индия\\n   \n",
       "\n",
       "                                           Причина\\n    И\\n  \n",
       "0  Захвачен террористами. Столкновение с северной...  [5]\\n  \n",
       "1  Захвачен террористами. Столкновение с южной ба...  [6]\\n  \n",
       "2                              Столкновение на ВПП\\n  [7]\\n  \n",
       "3  Потеря управления из-за разрушения гермошпанго...  [8]\\n  \n",
       "4                           Столкновение в воздухе\\n  [9]\\n  "
      ]
     },
     "execution_count": 6,
     "metadata": {},
     "output_type": "execute_result"
    }
   ],
   "source": [
    "mydata.head()"
   ]
  },
  {
   "cell_type": "code",
   "execution_count": 7,
   "id": "3594d225",
   "metadata": {},
   "outputs": [],
   "source": [
    "tbody = aircrash.find('tbody')"
   ]
  },
  {
   "cell_type": "code",
   "execution_count": 8,
   "id": "a2cd5f5a",
   "metadata": {},
   "outputs": [],
   "source": [
    "span = []\n",
    "for paragraph in tbody.find_all('th'):\n",
    "    span.append(paragraph.text)"
   ]
  },
  {
   "cell_type": "code",
   "execution_count": 9,
   "id": "5856cb48",
   "metadata": {},
   "outputs": [
    {
     "name": "stdout",
     "output_type": "stream",
     "text": [
      "110\n"
     ]
    }
   ],
   "source": [
    "print(len(span))"
   ]
  },
  {
   "cell_type": "code",
   "execution_count": 10,
   "id": "c3070159",
   "metadata": {},
   "outputs": [
    {
     "data": {
      "text/plain": [
       "['№\\n',\n",
       " 'Число погибших\\n',\n",
       " 'Дата\\n',\n",
       " 'Иллюстрация\\n',\n",
       " 'Воздушноесудно\\n',\n",
       " 'Оператор\\n',\n",
       " 'Место\\n',\n",
       " 'Страна\\n',\n",
       " 'Причина\\n',\n",
       " 'И\\n',\n",
       " '~ 1692\\n',\n",
       " '~ 965\\n']"
      ]
     },
     "execution_count": 10,
     "metadata": {},
     "output_type": "execute_result"
    }
   ],
   "source": [
    "span[0:12]"
   ]
  },
  {
   "cell_type": "code",
   "execution_count": 11,
   "id": "75e17bae",
   "metadata": {},
   "outputs": [],
   "source": [
    "murders = pd.Series(span[10:])\n",
    "mydata.insert(1, 'Число погибших', murders)"
   ]
  },
  {
   "cell_type": "code",
   "execution_count": 12,
   "id": "38e2cc08",
   "metadata": {},
   "outputs": [],
   "source": [
    "#mydata.columns = [col.replace(\"\\n\", \" \") for col in mydata.columns]\n",
    "mydata.columns = ['Number', 'Deaths', 'Date', 'Illustration', 'Aircraft', 'Airline', 'Location', 'Country', 'Reason', 'And']\n",
    "mydata = mydata.replace(r'\\s+|\\\\n', ' ', regex=True) "
   ]
  },
  {
   "cell_type": "code",
   "execution_count": 13,
   "id": "3a9067df",
   "metadata": {},
   "outputs": [
    {
     "data": {
      "text/html": [
       "<div>\n",
       "<style scoped>\n",
       "    .dataframe tbody tr th:only-of-type {\n",
       "        vertical-align: middle;\n",
       "    }\n",
       "\n",
       "    .dataframe tbody tr th {\n",
       "        vertical-align: top;\n",
       "    }\n",
       "\n",
       "    .dataframe thead th {\n",
       "        text-align: right;\n",
       "    }\n",
       "</style>\n",
       "<table border=\"1\" class=\"dataframe\">\n",
       "  <thead>\n",
       "    <tr style=\"text-align: right;\">\n",
       "      <th></th>\n",
       "      <th>Number</th>\n",
       "      <th>Deaths</th>\n",
       "      <th>Date</th>\n",
       "      <th>Illustration</th>\n",
       "      <th>Aircraft</th>\n",
       "      <th>Airline</th>\n",
       "      <th>Location</th>\n",
       "      <th>Country</th>\n",
       "      <th>Reason</th>\n",
       "      <th>And</th>\n",
       "    </tr>\n",
       "  </thead>\n",
       "  <tbody>\n",
       "    <tr>\n",
       "      <th>0</th>\n",
       "      <td>1</td>\n",
       "      <td>~ 1692</td>\n",
       "      <td>20010911 11 сентября 2001</td>\n",
       "      <td></td>\n",
       "      <td>B767-223ER</td>\n",
       "      <td>American Airlines American Airlines</td>\n",
       "      <td>Нью-Йорк</td>\n",
       "      <td>США</td>\n",
       "      <td>Захвачен террористами. Столкновение с северной...</td>\n",
       "      <td>[5]</td>\n",
       "    </tr>\n",
       "    <tr>\n",
       "      <th>1</th>\n",
       "      <td>2</td>\n",
       "      <td>~ 965</td>\n",
       "      <td>20010911 11 сентября 2001</td>\n",
       "      <td></td>\n",
       "      <td>B767-222</td>\n",
       "      <td>United Airlines United Airlines</td>\n",
       "      <td>Нью-Йорк</td>\n",
       "      <td>США</td>\n",
       "      <td>Захвачен террористами. Столкновение с южной ба...</td>\n",
       "      <td>[6]</td>\n",
       "    </tr>\n",
       "    <tr>\n",
       "      <th>2</th>\n",
       "      <td>3</td>\n",
       "      <td>583</td>\n",
       "      <td>19770327 27 марта 1977</td>\n",
       "      <td></td>\n",
       "      <td>B747-206BB747-121</td>\n",
       "      <td>KLM KLM Pan Am</td>\n",
       "      <td>Лос-Родеос, Тенерифе</td>\n",
       "      <td>Испания( Канарские острова)</td>\n",
       "      <td>Столкновение на ВПП</td>\n",
       "      <td>[7]</td>\n",
       "    </tr>\n",
       "    <tr>\n",
       "      <th>3</th>\n",
       "      <td>4</td>\n",
       "      <td>520</td>\n",
       "      <td>19850812 12 августа 1985</td>\n",
       "      <td></td>\n",
       "      <td>B747SR-46</td>\n",
       "      <td>Japan Air Lines Japan Air Lines</td>\n",
       "      <td>Гумма, близ Токио</td>\n",
       "      <td>Япония</td>\n",
       "      <td>Потеря управления из-за разрушения гермошпанго...</td>\n",
       "      <td>[8]</td>\n",
       "    </tr>\n",
       "    <tr>\n",
       "      <th>4</th>\n",
       "      <td>5</td>\n",
       "      <td>349</td>\n",
       "      <td>19961112 12 ноября 1996</td>\n",
       "      <td></td>\n",
       "      <td>B747-168BИл-76ТД</td>\n",
       "      <td>Saudi Arabian Airlines Saudi Arabian Airlines ...</td>\n",
       "      <td>Чархи Дадри</td>\n",
       "      <td>Индия</td>\n",
       "      <td>Столкновение в воздухе</td>\n",
       "      <td>[9]</td>\n",
       "    </tr>\n",
       "  </tbody>\n",
       "</table>\n",
       "</div>"
      ],
      "text/plain": [
       "  Number   Deaths                        Date Illustration  \\\n",
       "0     1   ~ 1692   20010911 11 сентября 2001                 \n",
       "1     2    ~ 965   20010911 11 сентября 2001                 \n",
       "2     3      583      19770327 27 марта 1977                 \n",
       "3     4      520    19850812 12 августа 1985                 \n",
       "4     5      349     19961112 12 ноября 1996                 \n",
       "\n",
       "             Aircraft                                            Airline  \\\n",
       "0         B767-223ER                American Airlines American Airlines    \n",
       "1           B767-222                    United Airlines United Airlines    \n",
       "2  B747-206BB747-121                                     KLM KLM Pan Am    \n",
       "3          B747SR-46                    Japan Air Lines Japan Air Lines    \n",
       "4   B747-168BИл-76ТД   Saudi Arabian Airlines Saudi Arabian Airlines ...   \n",
       "\n",
       "                Location                        Country  \\\n",
       "0              Нью-Йорк                            США    \n",
       "1              Нью-Йорк                            США    \n",
       "2  Лос-Родеос, Тенерифе    Испания( Канарские острова)    \n",
       "3     Гумма, близ Токио                         Япония    \n",
       "4           Чархи Дадри                          Индия    \n",
       "\n",
       "                                              Reason   And  \n",
       "0  Захвачен террористами. Столкновение с северной...  [5]   \n",
       "1  Захвачен террористами. Столкновение с южной ба...  [6]   \n",
       "2                               Столкновение на ВПП   [7]   \n",
       "3  Потеря управления из-за разрушения гермошпанго...  [8]   \n",
       "4                            Столкновение в воздухе   [9]   "
      ]
     },
     "execution_count": 13,
     "metadata": {},
     "output_type": "execute_result"
    }
   ],
   "source": [
    "mydata.head()"
   ]
  },
  {
   "cell_type": "code",
   "execution_count": 14,
   "id": "5ee6b3df",
   "metadata": {},
   "outputs": [
    {
     "name": "stdout",
     "output_type": "stream",
     "text": [
      "<class 'pandas.core.frame.DataFrame'>\n",
      "Int64Index: 100 entries, 0 to 99\n",
      "Data columns (total 10 columns):\n",
      " #   Column        Non-Null Count  Dtype \n",
      "---  ------        --------------  ----- \n",
      " 0   Number        100 non-null    object\n",
      " 1   Deaths        100 non-null    object\n",
      " 2   Date          100 non-null    object\n",
      " 3   Illustration  100 non-null    object\n",
      " 4   Aircraft      100 non-null    object\n",
      " 5   Airline       100 non-null    object\n",
      " 6   Location      100 non-null    object\n",
      " 7   Country       100 non-null    object\n",
      " 8   Reason        100 non-null    object\n",
      " 9   And           100 non-null    object\n",
      "dtypes: object(10)\n",
      "memory usage: 8.6+ KB\n"
     ]
    }
   ],
   "source": [
    "mydata.info()"
   ]
  },
  {
   "cell_type": "code",
   "execution_count": 15,
   "id": "c8c34da6",
   "metadata": {},
   "outputs": [],
   "source": [
    "mydata.columns = ['Number', 'Deaths', 'Date', 'Illustration', 'Aircraft', 'Airline', 'Location', 'Country', 'Reason', 'And']"
   ]
  },
  {
   "cell_type": "code",
   "execution_count": 16,
   "id": "101b5f5e",
   "metadata": {},
   "outputs": [],
   "source": [
    "mydata = mydata.drop(columns = ['Number', 'Illustration', 'And'])"
   ]
  },
  {
   "cell_type": "code",
   "execution_count": 17,
   "id": "b4da7ad0",
   "metadata": {},
   "outputs": [
    {
     "data": {
      "text/html": [
       "<div>\n",
       "<style scoped>\n",
       "    .dataframe tbody tr th:only-of-type {\n",
       "        vertical-align: middle;\n",
       "    }\n",
       "\n",
       "    .dataframe tbody tr th {\n",
       "        vertical-align: top;\n",
       "    }\n",
       "\n",
       "    .dataframe thead th {\n",
       "        text-align: right;\n",
       "    }\n",
       "</style>\n",
       "<table border=\"1\" class=\"dataframe\">\n",
       "  <thead>\n",
       "    <tr style=\"text-align: right;\">\n",
       "      <th></th>\n",
       "      <th>Deaths</th>\n",
       "      <th>Date</th>\n",
       "      <th>Aircraft</th>\n",
       "      <th>Airline</th>\n",
       "      <th>Location</th>\n",
       "      <th>Country</th>\n",
       "      <th>Reason</th>\n",
       "    </tr>\n",
       "  </thead>\n",
       "  <tbody>\n",
       "    <tr>\n",
       "      <th>0</th>\n",
       "      <td>~ 1692</td>\n",
       "      <td>20010911 11 сентября 2001</td>\n",
       "      <td>B767-223ER</td>\n",
       "      <td>American Airlines American Airlines</td>\n",
       "      <td>Нью-Йорк</td>\n",
       "      <td>США</td>\n",
       "      <td>Захвачен террористами. Столкновение с северной...</td>\n",
       "    </tr>\n",
       "    <tr>\n",
       "      <th>1</th>\n",
       "      <td>~ 965</td>\n",
       "      <td>20010911 11 сентября 2001</td>\n",
       "      <td>B767-222</td>\n",
       "      <td>United Airlines United Airlines</td>\n",
       "      <td>Нью-Йорк</td>\n",
       "      <td>США</td>\n",
       "      <td>Захвачен террористами. Столкновение с южной ба...</td>\n",
       "    </tr>\n",
       "    <tr>\n",
       "      <th>2</th>\n",
       "      <td>583</td>\n",
       "      <td>19770327 27 марта 1977</td>\n",
       "      <td>B747-206BB747-121</td>\n",
       "      <td>KLM KLM Pan Am</td>\n",
       "      <td>Лос-Родеос, Тенерифе</td>\n",
       "      <td>Испания( Канарские острова)</td>\n",
       "      <td>Столкновение на ВПП</td>\n",
       "    </tr>\n",
       "    <tr>\n",
       "      <th>3</th>\n",
       "      <td>520</td>\n",
       "      <td>19850812 12 августа 1985</td>\n",
       "      <td>B747SR-46</td>\n",
       "      <td>Japan Air Lines Japan Air Lines</td>\n",
       "      <td>Гумма, близ Токио</td>\n",
       "      <td>Япония</td>\n",
       "      <td>Потеря управления из-за разрушения гермошпанго...</td>\n",
       "    </tr>\n",
       "    <tr>\n",
       "      <th>4</th>\n",
       "      <td>349</td>\n",
       "      <td>19961112 12 ноября 1996</td>\n",
       "      <td>B747-168BИл-76ТД</td>\n",
       "      <td>Saudi Arabian Airlines Saudi Arabian Airlines ...</td>\n",
       "      <td>Чархи Дадри</td>\n",
       "      <td>Индия</td>\n",
       "      <td>Столкновение в воздухе</td>\n",
       "    </tr>\n",
       "  </tbody>\n",
       "</table>\n",
       "</div>"
      ],
      "text/plain": [
       "    Deaths                        Date            Aircraft  \\\n",
       "0  ~ 1692   20010911 11 сентября 2001          B767-223ER    \n",
       "1   ~ 965   20010911 11 сентября 2001            B767-222    \n",
       "2     583      19770327 27 марта 1977   B747-206BB747-121    \n",
       "3     520    19850812 12 августа 1985           B747SR-46    \n",
       "4     349     19961112 12 ноября 1996    B747-168BИл-76ТД    \n",
       "\n",
       "                                             Airline               Location  \\\n",
       "0               American Airlines American Airlines               Нью-Йорк    \n",
       "1                   United Airlines United Airlines               Нью-Йорк    \n",
       "2                                    KLM KLM Pan Am   Лос-Родеос, Тенерифе    \n",
       "3                   Japan Air Lines Japan Air Lines      Гумма, близ Токио    \n",
       "4  Saudi Arabian Airlines Saudi Arabian Airlines ...           Чархи Дадри    \n",
       "\n",
       "                         Country  \\\n",
       "0                           США    \n",
       "1                           США    \n",
       "2   Испания( Канарские острова)    \n",
       "3                        Япония    \n",
       "4                         Индия    \n",
       "\n",
       "                                              Reason  \n",
       "0  Захвачен террористами. Столкновение с северной...  \n",
       "1  Захвачен террористами. Столкновение с южной ба...  \n",
       "2                               Столкновение на ВПП   \n",
       "3  Потеря управления из-за разрушения гермошпанго...  \n",
       "4                            Столкновение в воздухе   "
      ]
     },
     "execution_count": 17,
     "metadata": {},
     "output_type": "execute_result"
    }
   ],
   "source": [
    "mydata.head()"
   ]
  },
  {
   "cell_type": "code",
   "execution_count": 18,
   "id": "9b8963fa",
   "metadata": {},
   "outputs": [],
   "source": [
    "mydata['Deaths'] = [cell.replace(\"~\", \"\") for cell in mydata['Deaths']]"
   ]
  },
  {
   "cell_type": "code",
   "execution_count": 19,
   "id": "a054769d",
   "metadata": {},
   "outputs": [],
   "source": [
    "mydata['Date'] = [cell.split(\" \", 1)[0] for cell in mydata['Date']]\n",
    "mydata['Date'] = [cell[:4] + \"-\" + cell[4:6] + \"-\" + cell[6:] for cell in mydata['Date']]\n",
    "mydata['Date']= pd.to_datetime(mydata['Date'], format = \"%Y-%m-%d\")"
   ]
  },
  {
   "cell_type": "code",
   "execution_count": 20,
   "id": "a5a63389",
   "metadata": {
    "scrolled": true
   },
   "outputs": [
    {
     "data": {
      "text/html": [
       "<div>\n",
       "<style scoped>\n",
       "    .dataframe tbody tr th:only-of-type {\n",
       "        vertical-align: middle;\n",
       "    }\n",
       "\n",
       "    .dataframe tbody tr th {\n",
       "        vertical-align: top;\n",
       "    }\n",
       "\n",
       "    .dataframe thead th {\n",
       "        text-align: right;\n",
       "    }\n",
       "</style>\n",
       "<table border=\"1\" class=\"dataframe\">\n",
       "  <thead>\n",
       "    <tr style=\"text-align: right;\">\n",
       "      <th></th>\n",
       "      <th>Deaths</th>\n",
       "      <th>Date</th>\n",
       "      <th>Aircraft</th>\n",
       "      <th>Airline</th>\n",
       "      <th>Location</th>\n",
       "      <th>Country</th>\n",
       "      <th>Reason</th>\n",
       "    </tr>\n",
       "  </thead>\n",
       "  <tbody>\n",
       "    <tr>\n",
       "      <th>0</th>\n",
       "      <td>1692</td>\n",
       "      <td>2001-09-11</td>\n",
       "      <td>B767-223ER</td>\n",
       "      <td>American Airlines American Airlines</td>\n",
       "      <td>Нью-Йорк</td>\n",
       "      <td>США</td>\n",
       "      <td>Захвачен террористами. Столкновение с северной...</td>\n",
       "    </tr>\n",
       "    <tr>\n",
       "      <th>1</th>\n",
       "      <td>965</td>\n",
       "      <td>2001-09-11</td>\n",
       "      <td>B767-222</td>\n",
       "      <td>United Airlines United Airlines</td>\n",
       "      <td>Нью-Йорк</td>\n",
       "      <td>США</td>\n",
       "      <td>Захвачен террористами. Столкновение с южной ба...</td>\n",
       "    </tr>\n",
       "    <tr>\n",
       "      <th>2</th>\n",
       "      <td>583</td>\n",
       "      <td>1977-03-27</td>\n",
       "      <td>B747-206BB747-121</td>\n",
       "      <td>KLM KLM Pan Am</td>\n",
       "      <td>Лос-Родеос, Тенерифе</td>\n",
       "      <td>Испания( Канарские острова)</td>\n",
       "      <td>Столкновение на ВПП</td>\n",
       "    </tr>\n",
       "    <tr>\n",
       "      <th>3</th>\n",
       "      <td>520</td>\n",
       "      <td>1985-08-12</td>\n",
       "      <td>B747SR-46</td>\n",
       "      <td>Japan Air Lines Japan Air Lines</td>\n",
       "      <td>Гумма, близ Токио</td>\n",
       "      <td>Япония</td>\n",
       "      <td>Потеря управления из-за разрушения гермошпанго...</td>\n",
       "    </tr>\n",
       "    <tr>\n",
       "      <th>4</th>\n",
       "      <td>349</td>\n",
       "      <td>1996-11-12</td>\n",
       "      <td>B747-168BИл-76ТД</td>\n",
       "      <td>Saudi Arabian Airlines Saudi Arabian Airlines ...</td>\n",
       "      <td>Чархи Дадри</td>\n",
       "      <td>Индия</td>\n",
       "      <td>Столкновение в воздухе</td>\n",
       "    </tr>\n",
       "  </tbody>\n",
       "</table>\n",
       "</div>"
      ],
      "text/plain": [
       "   Deaths       Date            Aircraft  \\\n",
       "0   1692  2001-09-11         B767-223ER    \n",
       "1    965  2001-09-11           B767-222    \n",
       "2    583  1977-03-27  B747-206BB747-121    \n",
       "3    520  1985-08-12          B747SR-46    \n",
       "4    349  1996-11-12   B747-168BИл-76ТД    \n",
       "\n",
       "                                             Airline               Location  \\\n",
       "0               American Airlines American Airlines               Нью-Йорк    \n",
       "1                   United Airlines United Airlines               Нью-Йорк    \n",
       "2                                    KLM KLM Pan Am   Лос-Родеос, Тенерифе    \n",
       "3                   Japan Air Lines Japan Air Lines      Гумма, близ Токио    \n",
       "4  Saudi Arabian Airlines Saudi Arabian Airlines ...           Чархи Дадри    \n",
       "\n",
       "                         Country  \\\n",
       "0                           США    \n",
       "1                           США    \n",
       "2   Испания( Канарские острова)    \n",
       "3                        Япония    \n",
       "4                         Индия    \n",
       "\n",
       "                                              Reason  \n",
       "0  Захвачен террористами. Столкновение с северной...  \n",
       "1  Захвачен террористами. Столкновение с южной ба...  \n",
       "2                               Столкновение на ВПП   \n",
       "3  Потеря управления из-за разрушения гермошпанго...  \n",
       "4                            Столкновение в воздухе   "
      ]
     },
     "execution_count": 20,
     "metadata": {},
     "output_type": "execute_result"
    }
   ],
   "source": [
    "mydata.head()"
   ]
  },
  {
   "cell_type": "code",
   "execution_count": 21,
   "id": "3add4b9c",
   "metadata": {
    "scrolled": false
   },
   "outputs": [
    {
     "name": "stdout",
     "output_type": "stream",
     "text": [
      "['B767-223ER ' 'B767-222 ' 'B747-206BB747-121 ' 'B747SR-46 '\n",
      " 'B747-168BИл-76ТД ' 'DC-10-10 ' 'B747-237B ' 'L1011-385-1-15 200 '\n",
      " 'Ан-32Б ' 'B777-2H6ER ' 'A300B2-203 ' 'Ил-76МД ' 'B747-121 ' 'B747-230B '\n",
      " 'A300B4-605R ' 'A300B4-622R ' 'DC-8-61 ' 'DC-10-30 ' 'Ил-76ТД '\n",
      " 'DC-8-63CF ' 'A300B4-220 ' 'B747-131 ' 'MD-11 ' 'B747-3B5 ' 'A330-203 '\n",
      " 'B747-209B ' 'A321-231 ' 'B767-3Z9ER ' 'B767-366ER ' 'Ту-154Б-2 '\n",
      " 'A320-233 ' 'DC-8-55F ' 'B757-225 ' 'B757-223 ' 'B737 MAX 8 '\n",
      " 'B707-321C ' 'Ил-62М ' 'B747-283B ' 'MD-81 ' 'Ту-134АТу-134АК '\n",
      " 'Ту-154Б-1 ' 'HS-121-3BDC-9-31 ' 'B707-3D3C ' 'DC-8-62 ' 'B737-8KV '\n",
      " 'Ил-62 ' 'Ту-154М ' 'A310-304 ' 'B727-264 ' 'A300B4-203 ' 'B727-281 '\n",
      " 'A320-216 ' 'MD-82 ' 'B747-244BM ' 'MD-83 ' 'C-130H-LM ' 'B737-8HG '\n",
      " 'B727-2L5 ' 'B707-340C ' 'C-130B ' 'DC-9-32 ' 'CV-990-30A-5 ' 'C-5A '\n",
      " 'B727-2F2 ' 'B737-8EH ' 'B727-235 ' 'A310-324 ' 'A320-211 '\n",
      " 'BAC 1-11-525FT ' 'B737-230 ' 'B727-256 ' 'B737-3Q8 ' 'B727-46 '\n",
      " 'B727-214Cessna 172 ' 'B707-331B ' 'B727-231 ' 'B727-21 ' 'A320-212 '\n",
      " 'KC-130B ' 'B737-3Y0 ' 'L-188C ' 'B727-223 ']\n"
     ]
    }
   ],
   "source": [
    "print(mydata['Aircraft'].unique())"
   ]
  },
  {
   "cell_type": "code",
   "execution_count": 22,
   "id": "a0a88aeb",
   "metadata": {},
   "outputs": [],
   "source": [
    "def aircraft(cell):\n",
    "    if 'B7' in cell and len(cell) < 12:\n",
    "        return cell.split(\"-\", 1)[0]\n",
    "    if 'A3' in cell and len(cell) < 12:\n",
    "        return cell.split(\"-\", 1)[0]\n",
    "    if 'DC' in cell and len(cell) < 12:\n",
    "        return cell.rsplit(\"-\", 1)[0]\n",
    "    if 'Ту-154' in cell:\n",
    "        return 'Ту-154'\n",
    "    if 'L1011' in cell:\n",
    "        return 'L1011'\n",
    "    if 'Ил-76' in cell:\n",
    "        return 'Ил-76'\n",
    "    if 'C-130' in cell:\n",
    "        return 'C-130'\n",
    "    if 'CV-990' in cell:\n",
    "        return 'CV-990' \n",
    "    if 'BAC' in cell:\n",
    "        return 'BAC 1-11'\n",
    "    if 'A300' in cell:\n",
    "        return 'A300'\n",
    "    return cell"
   ]
  },
  {
   "cell_type": "code",
   "execution_count": 23,
   "id": "f923ded8",
   "metadata": {},
   "outputs": [],
   "source": [
    "mydata['Aircraft'] = mydata['Aircraft'].apply(aircraft)"
   ]
  },
  {
   "cell_type": "code",
   "execution_count": 24,
   "id": "d6499387",
   "metadata": {},
   "outputs": [
    {
     "data": {
      "text/plain": [
       "0                   B767\n",
       "1                   B767\n",
       "2     B747-206BB747-121 \n",
       "3                 B747SR\n",
       "4                  Ил-76\n",
       "             ...        \n",
       "95                 C-130\n",
       "96                  B737\n",
       "97               L-188C \n",
       "98                Ту-154\n",
       "99                  B727\n",
       "Name: Aircraft, Length: 100, dtype: object"
      ]
     },
     "execution_count": 24,
     "metadata": {},
     "output_type": "execute_result"
    }
   ],
   "source": [
    "mydata['Aircraft']"
   ]
  },
  {
   "cell_type": "code",
   "execution_count": null,
   "id": "cfea23ec",
   "metadata": {},
   "outputs": [],
   "source": []
  },
  {
   "cell_type": "code",
   "execution_count": null,
   "id": "5095f3e0",
   "metadata": {},
   "outputs": [],
   "source": []
  },
  {
   "cell_type": "code",
   "execution_count": null,
   "id": "fbebb42f",
   "metadata": {},
   "outputs": [],
   "source": []
  }
 ],
 "metadata": {
  "kernelspec": {
   "display_name": "Python 3",
   "language": "python",
   "name": "python3"
  },
  "language_info": {
   "codemirror_mode": {
    "name": "ipython",
    "version": 3
   },
   "file_extension": ".py",
   "mimetype": "text/x-python",
   "name": "python",
   "nbconvert_exporter": "python",
   "pygments_lexer": "ipython3",
   "version": "3.8.8"
  }
 },
 "nbformat": 4,
 "nbformat_minor": 5
}
